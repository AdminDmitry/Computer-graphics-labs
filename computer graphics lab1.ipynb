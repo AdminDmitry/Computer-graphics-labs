{
 "cells": [
  {
   "cell_type": "code",
   "execution_count": 13,
   "id": "3f890a1c",
   "metadata": {},
   "outputs": [],
   "source": [
    "from PIL import Image\n",
    "import numpy as np\n",
    "import math"
   ]
  },
  {
   "cell_type": "markdown",
   "id": "8e7e52ae",
   "metadata": {},
   "source": [
    "# Лабораторная работа №1"
   ]
  },
  {
   "cell_type": "markdown",
   "id": "42bd2b60",
   "metadata": {},
   "source": [
    "## 1. Работа с изображениями"
   ]
  },
  {
   "cell_type": "code",
   "execution_count": 14,
   "id": "ed9a10e6",
   "metadata": {},
   "outputs": [
    {
     "name": "stdout",
     "output_type": "stream",
     "text": [
      "1000\n",
      "1000\n"
     ]
    }
   ],
   "source": [
    "H = int(input())\n",
    "W = int(input())"
   ]
  },
  {
   "cell_type": "code",
   "execution_count": 15,
   "id": "eb53b433",
   "metadata": {},
   "outputs": [],
   "source": [
    "image = np.zeros((H,W,3), dtype=np.uint8)"
   ]
  },
  {
   "cell_type": "code",
   "execution_count": 16,
   "id": "68d26e53",
   "metadata": {},
   "outputs": [],
   "source": [
    "#черное изображение\n",
    "for i in range(H):\n",
    "    for j in range(W):\n",
    "        image[i,j,0], image[i,j,1], image[i,j,2] = 0, 0, 0"
   ]
  },
  {
   "cell_type": "code",
   "execution_count": 17,
   "id": "4c7cf7c1",
   "metadata": {},
   "outputs": [],
   "source": [
    "#белое изображение\n",
    "for i in range(H):\n",
    "    for j in range(W):\n",
    "        image[i,j,0], image[i,j,1], image[i,j,2] = 255, 255, 255"
   ]
  },
  {
   "cell_type": "code",
   "execution_count": 18,
   "id": "38b19a72",
   "metadata": {},
   "outputs": [],
   "source": [
    "#красное изображение\n",
    "for i in range(H):\n",
    "    for j in range(W):\n",
    "        image[i,j,0], image[i,j,1], image[i,j,2] = 255, 0, 0"
   ]
  },
  {
   "cell_type": "code",
   "execution_count": 19,
   "id": "74f20aa3",
   "metadata": {},
   "outputs": [],
   "source": [
    "#градиент\n",
    "for i in range(H):\n",
    "    for j in range(W):\n",
    "        image[i,j,0], image[i,j,1], image[i,j,2] = (i+j)%256, 0, 0"
   ]
  },
  {
   "cell_type": "code",
   "execution_count": 20,
   "id": "0e54d90f",
   "metadata": {},
   "outputs": [],
   "source": [
    "image = Image.fromarray(image, 'RGB')\n",
    "image.save(\"image.jpg\")"
   ]
  },
  {
   "cell_type": "markdown",
   "id": "cc021fcd",
   "metadata": {},
   "source": [
    "##  3. Отрисовка прямых линий"
   ]
  },
  {
   "cell_type": "code",
   "execution_count": 21,
   "id": "217c6d23",
   "metadata": {},
   "outputs": [],
   "source": [
    "image = np.zeros((200, 200, 3), dtype=np.uint8)"
   ]
  },
  {
   "cell_type": "code",
   "execution_count": 22,
   "id": "81c682be",
   "metadata": {},
   "outputs": [],
   "source": [
    "#первый вариант\n",
    "def line_one(x0, y0, x1, y1):\n",
    "    for i in np.arange(0, 1, 0.01):\n",
    "        x = int(x0*(1-i) + x1*i)\n",
    "        y = int(x0*(1-i) + y1*i)\n",
    "        image[x,y] = 255 "
   ]
  },
  {
   "cell_type": "code",
   "execution_count": 23,
   "id": "8c598d5d",
   "metadata": {},
   "outputs": [],
   "source": [
    "#второй вариант\n",
    "def line_two(x0, y0, x1, y1):\n",
    "    for i in range(x0, x1+1):\n",
    "        t = (i-x0)/(x1-x0)\n",
    "        y = int(y0*(1-t)+y1*t)\n",
    "        image[i,y] = 255"
   ]
  },
  {
   "cell_type": "code",
   "execution_count": 24,
   "id": "066f1563",
   "metadata": {},
   "outputs": [],
   "source": [
    "#третий вариант\n",
    "def line_three(x0, y0, x1, y1):\n",
    "    steep = False\n",
    "    if abs(x0-x1) < abs(y0-y1):\n",
    "        x0, y0 = y0, x0\n",
    "        x1, y1 = y1, x1\n",
    "        steep = True\n",
    "    if x0 > x1:\n",
    "        x0, x1 = x1, x0\n",
    "        y0, y1 = y1, y0\n",
    "    for i in range (x0, x1+1):\n",
    "        t = (i-x0)/(x1-x0)\n",
    "        y = int(y0*(1-t) + y1*t)\n",
    "        if steep:\n",
    "            image[y, i] = 255\n",
    "        else:\n",
    "            image[i, y] = 255"
   ]
  },
  {
   "cell_type": "code",
   "execution_count": 25,
   "id": "4463b353",
   "metadata": {},
   "outputs": [],
   "source": [
    "#четвертый вариант\n",
    "def line_four(x0, y0, x1, y1):\n",
    "    steep = False\n",
    "    if abs(x0-x1) < abs(y0-y1):\n",
    "        x0, y0 = y0, x0\n",
    "        x1, y1 = y1, x1\n",
    "        steep = True\n",
    "    if x0 > x1:\n",
    "        x0, x1 = x1, x0\n",
    "        y0, y1 = y1, y0\n",
    "    dx = x1 - x0\n",
    "    dy = y1 - y0\n",
    "    derror = abs(dy/dx)\n",
    "    error = 0\n",
    "    y = y0\n",
    "    \n",
    "    for x in range(x0, x1+1):\n",
    "        if steep:\n",
    "            image[y, x] = 255\n",
    "        else:\n",
    "            image[x, y] = 255\n",
    "        error += derror\n",
    "        if error > 0.5:\n",
    "            if y1 > y0:\n",
    "                y += 1\n",
    "            else:\n",
    "                y += -1\n",
    "            error -= 1"
   ]
  },
  {
   "cell_type": "code",
   "execution_count": 26,
   "id": "58c6184d",
   "metadata": {},
   "outputs": [],
   "source": [
    "for i in range(13):\n",
    "    x1=int(100+95*math.cos((2*math.pi*i)/13))\n",
    "    y1=int(100+95*math.sin((2*math.pi*i)/13))\n",
    "    line_four(100,100,x1,y1)"
   ]
  },
  {
   "cell_type": "code",
   "execution_count": 27,
   "id": "d7f43038",
   "metadata": {},
   "outputs": [],
   "source": [
    "image = Image.fromarray(image, 'RGB')\n",
    "image.save(\"image.jpg\")"
   ]
  }
 ],
 "metadata": {
  "kernelspec": {
   "display_name": "Python 3 (ipykernel)",
   "language": "python",
   "name": "python3"
  },
  "language_info": {
   "codemirror_mode": {
    "name": "ipython",
    "version": 3
   },
   "file_extension": ".py",
   "mimetype": "text/x-python",
   "name": "python",
   "nbconvert_exporter": "python",
   "pygments_lexer": "ipython3",
   "version": "3.9.13"
  }
 },
 "nbformat": 4,
 "nbformat_minor": 5
}
